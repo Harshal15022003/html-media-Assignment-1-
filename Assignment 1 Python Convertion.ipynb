{
 "cells": [
  {
   "cell_type": "code",
   "execution_count": 5,
   "id": "b35891f5-c047-46a5-9648-5aff01aa9b66",
   "metadata": {},
   "outputs": [],
   "source": [
    "# Answer 1"
   ]
  },
  {
   "cell_type": "code",
   "execution_count": 6,
   "id": "8a134750-9f05-4818-9074-52d2cb3e000e",
   "metadata": {},
   "outputs": [],
   "source": [
    "a = 150"
   ]
  },
  {
   "cell_type": "code",
   "execution_count": 7,
   "id": "8f8803e1-f242-453b-84a6-f78d6b3fedd1",
   "metadata": {},
   "outputs": [
    {
     "data": {
      "text/plain": [
       "int"
      ]
     },
     "execution_count": 7,
     "metadata": {},
     "output_type": "execute_result"
    }
   ],
   "source": [
    "type (a)"
   ]
  },
  {
   "cell_type": "code",
   "execution_count": 10,
   "id": "095ae839-a189-44e0-80d3-91e0edf46a26",
   "metadata": {},
   "outputs": [],
   "source": [
    "a=float (a)"
   ]
  },
  {
   "cell_type": "code",
   "execution_count": 11,
   "id": "e5974349-35d8-4827-95c1-f123dcf3a8d8",
   "metadata": {},
   "outputs": [
    {
     "data": {
      "text/plain": [
       "float"
      ]
     },
     "execution_count": 11,
     "metadata": {},
     "output_type": "execute_result"
    }
   ],
   "source": [
    "type (a)"
   ]
  },
  {
   "cell_type": "code",
   "execution_count": 12,
   "id": "9d715e36-a9b2-4c92-bf18-1474cefb2106",
   "metadata": {},
   "outputs": [],
   "source": [
    "#description - in the above case integer (a) = 150 has been converted into float (a) = 150.0"
   ]
  },
  {
   "cell_type": "code",
   "execution_count": 13,
   "id": "c01d4d58-e3a9-43fa-9966-5658629f8ab5",
   "metadata": {},
   "outputs": [],
   "source": [
    "#Answer 2"
   ]
  },
  {
   "cell_type": "code",
   "execution_count": 14,
   "id": "fc68fc1e-87f8-409f-bf55-9b87508976fc",
   "metadata": {},
   "outputs": [],
   "source": [
    "a = 120.56"
   ]
  },
  {
   "cell_type": "code",
   "execution_count": 15,
   "id": "72a00ca3-78c0-4799-b5bb-3351c98e16a7",
   "metadata": {},
   "outputs": [
    {
     "data": {
      "text/plain": [
       "float"
      ]
     },
     "execution_count": 15,
     "metadata": {},
     "output_type": "execute_result"
    }
   ],
   "source": [
    "type (a)"
   ]
  },
  {
   "cell_type": "code",
   "execution_count": 16,
   "id": "ffc6de74-a3a4-4b26-8882-92917f35cfa3",
   "metadata": {},
   "outputs": [],
   "source": [
    "a = int(a)"
   ]
  },
  {
   "cell_type": "code",
   "execution_count": 17,
   "id": "bc2274d8-749a-4383-80c8-e52bb80d30d9",
   "metadata": {},
   "outputs": [
    {
     "data": {
      "text/plain": [
       "120"
      ]
     },
     "execution_count": 17,
     "metadata": {},
     "output_type": "execute_result"
    }
   ],
   "source": [
    "a"
   ]
  },
  {
   "cell_type": "code",
   "execution_count": 18,
   "id": "2bc324d7-6d7e-4063-9344-ea1124c391ff",
   "metadata": {},
   "outputs": [
    {
     "data": {
      "text/plain": [
       "int"
      ]
     },
     "execution_count": 18,
     "metadata": {},
     "output_type": "execute_result"
    }
   ],
   "source": [
    "type (a)"
   ]
  },
  {
   "cell_type": "code",
   "execution_count": 19,
   "id": "f311f05e-b2cb-4bc2-849b-ca4453f8b0c9",
   "metadata": {},
   "outputs": [],
   "source": [
    "#description - In the above case float (a) = 120.56 has been converted into integer (a) = 120"
   ]
  },
  {
   "cell_type": "code",
   "execution_count": 20,
   "id": "9a34cf30-20d0-47bf-aeed-ee4a27533830",
   "metadata": {},
   "outputs": [],
   "source": [
    "#Answer 3"
   ]
  },
  {
   "cell_type": "code",
   "execution_count": 21,
   "id": "702ee2ad-db1e-4ca1-a8dd-abfed4a24d26",
   "metadata": {},
   "outputs": [],
   "source": [
    "a = 60 #(integer)"
   ]
  },
  {
   "cell_type": "code",
   "execution_count": 22,
   "id": "bf12d447-0aac-4000-bcdd-234d1628e6e0",
   "metadata": {},
   "outputs": [
    {
     "data": {
      "text/plain": [
       "int"
      ]
     },
     "execution_count": 22,
     "metadata": {},
     "output_type": "execute_result"
    }
   ],
   "source": [
    "type (a)"
   ]
  },
  {
   "cell_type": "code",
   "execution_count": 23,
   "id": "f8b536f2-990c-406a-aa4b-3eaa39acfef3",
   "metadata": {},
   "outputs": [],
   "source": [
    "a = str(a) #Conversion into string"
   ]
  },
  {
   "cell_type": "code",
   "execution_count": 24,
   "id": "14efecbf-3484-4aa9-ba40-ac9b01292953",
   "metadata": {},
   "outputs": [
    {
     "data": {
      "text/plain": [
       "'60'"
      ]
     },
     "execution_count": 24,
     "metadata": {},
     "output_type": "execute_result"
    }
   ],
   "source": [
    "a"
   ]
  },
  {
   "cell_type": "code",
   "execution_count": 25,
   "id": "5ba260ae-5ba1-4327-b3ee-a86fb385fde5",
   "metadata": {},
   "outputs": [
    {
     "data": {
      "text/plain": [
       "str"
      ]
     },
     "execution_count": 25,
     "metadata": {},
     "output_type": "execute_result"
    }
   ],
   "source": [
    "type (a) #converted into string"
   ]
  },
  {
   "cell_type": "code",
   "execution_count": 26,
   "id": "91baeca9-2da3-4395-a1d2-b6d56de8c491",
   "metadata": {},
   "outputs": [],
   "source": [
    "#Answer 4"
   ]
  },
  {
   "cell_type": "code",
   "execution_count": 4,
   "id": "59e4aeec-ce9a-4e32-9d5a-3b95121963ae",
   "metadata": {},
   "outputs": [],
   "source": [
    "a = [\"pwskills\", \"harshal\", \"data analytics\"]  #I have assigned the list "
   ]
  },
  {
   "cell_type": "code",
   "execution_count": 5,
   "id": "91da18e5-b461-47bf-8d8c-10f99a2e78a1",
   "metadata": {},
   "outputs": [
    {
     "data": {
      "text/plain": [
       "list"
      ]
     },
     "execution_count": 5,
     "metadata": {},
     "output_type": "execute_result"
    }
   ],
   "source": [
    "type (a)"
   ]
  },
  {
   "cell_type": "code",
   "execution_count": 9,
   "id": "21303696-1b80-41e6-9ae7-bc021053bdfa",
   "metadata": {},
   "outputs": [
    {
     "data": {
      "text/plain": [
       "('pwskills', 'harshal', 'data analytics')"
      ]
     },
     "execution_count": 9,
     "metadata": {},
     "output_type": "execute_result"
    }
   ],
   "source": [
    "a = tuple(a)\n",
    "type (a)\n",
    "a"
   ]
  },
  {
   "cell_type": "code",
   "execution_count": 31,
   "id": "12a8613d-0174-456b-adca-f3aa74b36907",
   "metadata": {},
   "outputs": [],
   "source": [
    "#Answer 5"
   ]
  },
  {
   "cell_type": "code",
   "execution_count": 1,
   "id": "84946be5-c499-4f09-bcd5-55edae5e4eb4",
   "metadata": {},
   "outputs": [],
   "source": [
    "my_tuples=('harshal_1', 'pwskills_2', 'data_analytics_3') #assigned the tuples"
   ]
  },
  {
   "cell_type": "code",
   "execution_count": 2,
   "id": "bf46b383-abc8-4c19-a5f5-9637e6b7c1fc",
   "metadata": {},
   "outputs": [],
   "source": [
    "my_list=list(my_tuples) #converted into list"
   ]
  },
  {
   "cell_type": "code",
   "execution_count": 3,
   "id": "447b4bbd-9cd1-4d54-9576-8993078c6de0",
   "metadata": {},
   "outputs": [
    {
     "data": {
      "text/plain": [
       "['harshal_1', 'pwskills_2', 'data_analytics_3']"
      ]
     },
     "execution_count": 3,
     "metadata": {},
     "output_type": "execute_result"
    }
   ],
   "source": [
    "my_list"
   ]
  },
  {
   "cell_type": "code",
   "execution_count": 14,
   "id": "7fb0eb61-5635-4ccc-8483-2efc9ea035f3",
   "metadata": {},
   "outputs": [],
   "source": [
    "#Answer 6"
   ]
  },
  {
   "cell_type": "code",
   "execution_count": 42,
   "id": "4bf53c10-01a3-412f-bd83-3a4690ebf521",
   "metadata": {},
   "outputs": [],
   "source": [
    "dec = int(5.568) #Taken a 5.568 (Decimal)"
   ]
  },
  {
   "cell_type": "code",
   "execution_count": 44,
   "id": "9a7d5e95-4ec6-44e8-8bd1-4b39fc4b16bb",
   "metadata": {},
   "outputs": [],
   "source": [
    "binary = bin(dec) #converted into binary"
   ]
  },
  {
   "cell_type": "code",
   "execution_count": 45,
   "id": "cd8173ac-f0c0-4b74-b8ef-225c169cf63f",
   "metadata": {},
   "outputs": [
    {
     "data": {
      "text/plain": [
       "'0b101'"
      ]
     },
     "execution_count": 45,
     "metadata": {},
     "output_type": "execute_result"
    }
   ],
   "source": [
    "binary"
   ]
  },
  {
   "cell_type": "code",
   "execution_count": 46,
   "id": "e6ce3470-cc7e-4ebc-8548-6b7e897c7352",
   "metadata": {},
   "outputs": [],
   "source": [
    "# Answer 7"
   ]
  },
  {
   "cell_type": "code",
   "execution_count": 1,
   "id": "b8d348c1-173b-4832-8276-9abc92b9c23b",
   "metadata": {},
   "outputs": [],
   "source": [
    "a = 10 #Assigned the non zero value"
   ]
  },
  {
   "cell_type": "code",
   "execution_count": 2,
   "id": "d56e053e-338a-4ae0-91f0-99f32eb159ca",
   "metadata": {},
   "outputs": [],
   "source": [
    "bollean = bool(a) #converted into boolean"
   ]
  },
  {
   "cell_type": "code",
   "execution_count": 3,
   "id": "e2afcc07-acea-443b-afc0-54ec9d5c195b",
   "metadata": {},
   "outputs": [
    {
     "data": {
      "text/plain": [
       "True"
      ]
     },
     "execution_count": 3,
     "metadata": {},
     "output_type": "execute_result"
    }
   ],
   "source": [
    "bollean"
   ]
  },
  {
   "cell_type": "code",
   "execution_count": null,
   "id": "a1c84792-6ffb-4812-8b0a-d730b1512a71",
   "metadata": {},
   "outputs": [],
   "source": [
    "##Assignment is complete##"
   ]
  }
 ],
 "metadata": {
  "kernelspec": {
   "display_name": "Python 3 (ipykernel)",
   "language": "python",
   "name": "python3"
  },
  "language_info": {
   "codemirror_mode": {
    "name": "ipython",
    "version": 3
   },
   "file_extension": ".py",
   "mimetype": "text/x-python",
   "name": "python",
   "nbconvert_exporter": "python",
   "pygments_lexer": "ipython3",
   "version": "3.10.8"
  }
 },
 "nbformat": 4,
 "nbformat_minor": 5
}
